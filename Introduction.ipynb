{
  "nbformat": 4,
  "nbformat_minor": 0,
  "metadata": {
    "colab": {
      "provenance": [],
      "collapsed_sections": [
        "KhzSKoFftj3-",
        "W-tszuJTg0ZR",
        "d0eLpGypi8ak",
        "tW7Fw72OkrOf"
      ],
      "authorship_tag": "ABX9TyM1v+HFuP/Rr3rIlHy6NXPt",
      "include_colab_link": true
    },
    "kernelspec": {
      "name": "python3",
      "display_name": "Python 3"
    }
  },
  "cells": [
    {
      "cell_type": "markdown",
      "metadata": {
        "id": "view-in-github",
        "colab_type": "text"
      },
      "source": [
        "<a href=\"https://colab.research.google.com/github/MadanBaduwal/feature-engineering/blob/main/Introduction.ipynb\" target=\"_parent\"><img src=\"https://colab.research.google.com/assets/colab-badge.svg\" alt=\"Open In Colab\"/></a>"
      ]
    },
    {
      "cell_type": "markdown",
      "metadata": {
        "id": "KhzSKoFftj3-"
      },
      "source": [
        "# Introduction"
      ]
    },
    {
      "cell_type": "markdown",
      "metadata": {
        "id": "bm6PShrvfhRp"
      },
      "source": [
        "Most : \n",
        "\n",
        "* Algorithm lai focus vayara data create garni and data jasto x testai prakarko algorithm select garni. \n",
        "\n",
        "* Algorithm ko mathematic bujyara tai anushar ko data or data jasto x testai algorithm."
      ]
    },
    {
      "cell_type": "markdown",
      "metadata": {
        "id": "W-tszuJTg0ZR"
      },
      "source": [
        "# Data structure for feature engineering.\n",
        "\n"
      ]
    },
    {
      "cell_type": "markdown",
      "metadata": {
        "id": "E_xENPzQhi3q"
      },
      "source": [
        "## Column, features,variable,axis=1"
      ]
    },
    {
      "cell_type": "markdown",
      "metadata": {
        "id": "ls8I17T6hoPV"
      },
      "source": [
        "## Row,axis=0"
      ]
    },
    {
      "cell_type": "markdown",
      "metadata": {
        "id": "d0eLpGypi8ak"
      },
      "source": [
        "# Feature(column,variabl,axis=1) Datatype"
      ]
    },
    {
      "cell_type": "markdown",
      "metadata": {
        "id": "5cP94K2fjE8n"
      },
      "source": [
        "## Numerical\n",
        "\n",
        "### Discrete\n",
        "### Continious"
      ]
    },
    {
      "cell_type": "markdown",
      "metadata": {
        "id": "x-jrwyHfjLdP"
      },
      "source": [
        "## Categorical\n",
        "\n",
        "### Ordinal(order)\n",
        "\n",
        "Eg: A,B,C..\n",
        "\n",
        "### Nominal(not order)\n",
        "\n",
        "Eg: USA,Nepal..."
      ]
    },
    {
      "cell_type": "markdown",
      "metadata": {
        "id": "Acucz5GCjNZN"
      },
      "source": [
        "## Mixed(numerical + categorical)"
      ]
    },
    {
      "cell_type": "markdown",
      "metadata": {
        "id": "lChkekGkj-55"
      },
      "source": [
        "## Datetime"
      ]
    },
    {
      "cell_type": "markdown",
      "metadata": {
        "id": "tW7Fw72OkrOf"
      },
      "source": [
        "# Characteristics of features(variable,column,axis=1)\n"
      ]
    },
    {
      "cell_type": "markdown",
      "metadata": {
        "id": "q-6aYjGwlS6c"
      },
      "source": [
        "## 1. Missing data (Nan)\n",
        "\n",
        "## 2. Cardinality \n",
        "\n",
        "|  id |  sex | \n",
        "|---|---|\n",
        "| 1  | male  |   \n",
        "|  2 |  femal |  \n",
        "|  3 |  femal |  \n",
        "| 4  | male|\n",
        "\n",
        "id= high cardinality(low repetation)=problem\n",
        "sex= low cardinality(high repetation)=no problem\n",
        "## 3. Rearer label(imbalance data)\n",
        " \n",
        "|  id |  sex | \n",
        "|---|---|\n",
        "| 1  | femal |   \n",
        "|  2 |  femal |  \n",
        "|  3 |  femal |  \n",
        "| 4  | male|\n",
        "\n",
        "\n",
        "Here is male label is rarer label.\n",
        "\n",
        "##3. Linear model ssumption\n",
        "\n",
        "* Linearity- \n",
        "* Independence-feature haru independent hunuparyo ak apas ma (correlated features madhya auta lai drop garni jo target sanga low correated x)\n",
        "* Homoscendacity-\n",
        "* Normality"
      ]
    },
    {
      "cell_type": "markdown",
      "metadata": {
        "id": "wnpH0b7puUDT"
      },
      "source": [
        "# Code"
      ]
    },
    {
      "cell_type": "markdown",
      "metadata": {
        "id": "-uYvcyp5GfEK"
      },
      "source": [
        "## [PANDA](https://pandas.pydata.org/pandas-docs/stable/user_guide/io.html)"
      ]
    },
    {
      "cell_type": "markdown",
      "metadata": {
        "id": "qDvdqVcVwob1"
      },
      "source": [
        "### Load data(C)"
      ]
    },
    {
      "cell_type": "code",
      "metadata": {
        "id": "3Zjq_QxUt8FK"
      },
      "source": [
        "from google.colab import drive\n",
        "\n",
        "drive.mount(\"/drive\")"
      ],
      "execution_count": null,
      "outputs": []
    },
    {
      "cell_type": "code",
      "metadata": {
        "id": "Ha7SQukmu6Vn"
      },
      "source": [
        "import pandas as pd"
      ],
      "execution_count": null,
      "outputs": []
    },
    {
      "cell_type": "code",
      "metadata": {
        "id": "UWFGPJ6dvEbC"
      },
      "source": [
        "#data=pd.read_csv('/drive/My Drive/ drive location')\n",
        "#data=pd.read_csv('git link')\n",
        "\n",
        "data=pd.read_csv('/content/sample_data/california_housing_test.csv')"
      ],
      "execution_count": null,
      "outputs": []
    },
    {
      "cell_type": "markdown",
      "metadata": {
        "id": "6w6Dad7zCvR_"
      },
      "source": [
        "### Count the number of features(columns)"
      ]
    },
    {
      "cell_type": "code",
      "metadata": {
        "id": "cMl6YZdGC5gd",
        "colab": {
          "base_uri": "https://localhost:8080/",
          "height": 34
        },
        "outputId": "99f64b40-5169-4332-e1c0-e1c62c8cf7e9"
      },
      "source": [
        "print(\"the number of columns are:\",len(data.columns))"
      ],
      "execution_count": null,
      "outputs": [
        {
          "output_type": "stream",
          "text": [
            "the number of columns are: 9\n"
          ],
          "name": "stdout"
        }
      ]
    },
    {
      "cell_type": "markdown",
      "metadata": {
        "id": "AHDr__CfDIr7"
      },
      "source": [
        "### Let's see the columns"
      ]
    },
    {
      "cell_type": "code",
      "metadata": {
        "id": "s09O7ugeDRkY",
        "colab": {
          "base_uri": "https://localhost:8080/",
          "height": 85
        },
        "outputId": "36fc5e75-6aa6-4723-ea5c-bff194e7970a"
      },
      "source": [
        "print(\"the columns are:\",data.columns)"
      ],
      "execution_count": null,
      "outputs": [
        {
          "output_type": "stream",
          "text": [
            "the columns are: Index(['longitude', 'latitude', 'housing_median_age', 'total_rooms',\n",
            "       'total_bedrooms', 'population', 'households', 'median_income',\n",
            "       'median_house_value'],\n",
            "      dtype='object')\n"
          ],
          "name": "stdout"
        }
      ]
    },
    {
      "cell_type": "markdown",
      "metadata": {
        "id": "nEqpxr9Cwyzj"
      },
      "source": [
        "### Lets see the data type of features(R)"
      ]
    },
    {
      "cell_type": "code",
      "metadata": {
        "id": "DzTjQCKOwgJy",
        "colab": {
          "base_uri": "https://localhost:8080/",
          "height": 187
        },
        "outputId": "8ee4d7f3-0d43-4be3-85f3-1c8f85bd4339"
      },
      "source": [
        "print(data.dtypes)"
      ],
      "execution_count": null,
      "outputs": [
        {
          "output_type": "stream",
          "text": [
            "longitude             float64\n",
            "latitude              float64\n",
            "housing_median_age    float64\n",
            "total_rooms           float64\n",
            "total_bedrooms        float64\n",
            "population            float64\n",
            "households            float64\n",
            "median_income         float64\n",
            "median_house_value    float64\n",
            "dtype: object\n"
          ],
          "name": "stdout"
        }
      ]
    },
    {
      "cell_type": "markdown",
      "metadata": {
        "id": "8x0N2zgPuV8E"
      },
      "source": [
        "Panda support data types are:\n",
        "\n",
        "* object\n",
        "* int64\n",
        "* float64\n",
        "* bool\n",
        "* datetime64\n",
        "* timedelta[ns]\n",
        "* category"
      ]
    },
    {
      "cell_type": "code",
      "metadata": {
        "id": "fCtQWq1Hwl2v",
        "colab": {
          "base_uri": "https://localhost:8080/",
          "height": 187
        },
        "outputId": "3b899fee-37be-4a7e-fb2a-945a26b63a32"
      },
      "source": [
        "# Convert one datatype into another(mostly we need to convert objet into int,float,categorical..)\n",
        "\n",
        "data['longitude']=data['longitude'].astype('object')\n",
        "print(data.dtypes)\n"
      ],
      "execution_count": null,
      "outputs": [
        {
          "output_type": "stream",
          "text": [
            "longitude              object\n",
            "latitude              float64\n",
            "housing_median_age    float64\n",
            "total_rooms           float64\n",
            "total_bedrooms        float64\n",
            "population            float64\n",
            "households            float64\n",
            "median_income         float64\n",
            "median_house_value    float64\n",
            "dtype: object\n"
          ],
          "name": "stdout"
        }
      ]
    },
    {
      "cell_type": "markdown",
      "metadata": {
        "id": "bivPByq2xQ3W"
      },
      "source": [
        "###Information of data or statistics of data(R)"
      ]
    },
    {
      "cell_type": "code",
      "metadata": {
        "id": "Vui4LTdIDxAA",
        "colab": {
          "base_uri": "https://localhost:8080/",
          "height": 170
        },
        "outputId": "ef83bf00-b106-46af-d78c-97df46e58fb9"
      },
      "source": [
        "data[\"longitude\"].describe()"
      ],
      "execution_count": null,
      "outputs": [
        {
          "output_type": "execute_result",
          "data": {
            "text/plain": [
              "count    3000.000000\n",
              "mean     -119.589200\n",
              "std         1.994936\n",
              "min      -124.180000\n",
              "25%      -121.810000\n",
              "50%      -118.485000\n",
              "75%      -118.020000\n",
              "max      -114.490000\n",
              "Name: longitude, dtype: float64"
            ]
          },
          "metadata": {
            "tags": []
          },
          "execution_count": 12
        }
      ]
    },
    {
      "cell_type": "code",
      "metadata": {
        "id": "-WyD__OSxIa9",
        "colab": {
          "base_uri": "https://localhost:8080/",
          "height": 275
        },
        "outputId": "924a3d6c-2cc2-42f6-b960-17946a41c41a"
      },
      "source": [
        "data.info"
      ],
      "execution_count": null,
      "outputs": [
        {
          "output_type": "execute_result",
          "data": {
            "text/plain": [
              "<bound method DataFrame.info of       longitude  latitude  ...  median_income  median_house_value\n",
              "0       -122.05     37.37  ...         6.6085            344700.0\n",
              "1       -118.30     34.26  ...         3.5990            176500.0\n",
              "2       -117.81     33.78  ...         5.7934            270500.0\n",
              "3       -118.36     33.82  ...         6.1359            330000.0\n",
              "4       -119.67     36.33  ...         2.9375             81700.0\n",
              "...         ...       ...  ...            ...                 ...\n",
              "2995    -119.86     34.42  ...         1.1790            225000.0\n",
              "2996    -118.14     34.06  ...         3.3906            237200.0\n",
              "2997    -119.70     36.30  ...         2.2895             62000.0\n",
              "2998    -117.12     34.10  ...         3.2708            162500.0\n",
              "2999    -119.63     34.42  ...         8.5608            500001.0\n",
              "\n",
              "[3000 rows x 9 columns]>"
            ]
          },
          "metadata": {
            "tags": []
          },
          "execution_count": 13
        }
      ]
    },
    {
      "cell_type": "code",
      "metadata": {
        "id": "qSLlED_ex6xg",
        "colab": {
          "base_uri": "https://localhost:8080/",
          "height": 317
        },
        "outputId": "2bd9fd72-aa98-4514-fcf7-bebd3116a50d"
      },
      "source": [
        "data.describe()"
      ],
      "execution_count": null,
      "outputs": [
        {
          "output_type": "execute_result",
          "data": {
            "text/html": [
              "<div>\n",
              "<style scoped>\n",
              "    .dataframe tbody tr th:only-of-type {\n",
              "        vertical-align: middle;\n",
              "    }\n",
              "\n",
              "    .dataframe tbody tr th {\n",
              "        vertical-align: top;\n",
              "    }\n",
              "\n",
              "    .dataframe thead th {\n",
              "        text-align: right;\n",
              "    }\n",
              "</style>\n",
              "<table border=\"1\" class=\"dataframe\">\n",
              "  <thead>\n",
              "    <tr style=\"text-align: right;\">\n",
              "      <th></th>\n",
              "      <th>longitude</th>\n",
              "      <th>latitude</th>\n",
              "      <th>housing_median_age</th>\n",
              "      <th>total_rooms</th>\n",
              "      <th>total_bedrooms</th>\n",
              "      <th>population</th>\n",
              "      <th>households</th>\n",
              "      <th>median_income</th>\n",
              "      <th>median_house_value</th>\n",
              "    </tr>\n",
              "  </thead>\n",
              "  <tbody>\n",
              "    <tr>\n",
              "      <th>count</th>\n",
              "      <td>3000.000000</td>\n",
              "      <td>3000.00000</td>\n",
              "      <td>3000.000000</td>\n",
              "      <td>3000.000000</td>\n",
              "      <td>3000.000000</td>\n",
              "      <td>3000.000000</td>\n",
              "      <td>3000.00000</td>\n",
              "      <td>3000.000000</td>\n",
              "      <td>3000.00000</td>\n",
              "    </tr>\n",
              "    <tr>\n",
              "      <th>mean</th>\n",
              "      <td>-119.589200</td>\n",
              "      <td>35.63539</td>\n",
              "      <td>28.845333</td>\n",
              "      <td>2599.578667</td>\n",
              "      <td>529.950667</td>\n",
              "      <td>1402.798667</td>\n",
              "      <td>489.91200</td>\n",
              "      <td>3.807272</td>\n",
              "      <td>205846.27500</td>\n",
              "    </tr>\n",
              "    <tr>\n",
              "      <th>std</th>\n",
              "      <td>1.994936</td>\n",
              "      <td>2.12967</td>\n",
              "      <td>12.555396</td>\n",
              "      <td>2155.593332</td>\n",
              "      <td>415.654368</td>\n",
              "      <td>1030.543012</td>\n",
              "      <td>365.42271</td>\n",
              "      <td>1.854512</td>\n",
              "      <td>113119.68747</td>\n",
              "    </tr>\n",
              "    <tr>\n",
              "      <th>min</th>\n",
              "      <td>-124.180000</td>\n",
              "      <td>32.56000</td>\n",
              "      <td>1.000000</td>\n",
              "      <td>6.000000</td>\n",
              "      <td>2.000000</td>\n",
              "      <td>5.000000</td>\n",
              "      <td>2.00000</td>\n",
              "      <td>0.499900</td>\n",
              "      <td>22500.00000</td>\n",
              "    </tr>\n",
              "    <tr>\n",
              "      <th>25%</th>\n",
              "      <td>-121.810000</td>\n",
              "      <td>33.93000</td>\n",
              "      <td>18.000000</td>\n",
              "      <td>1401.000000</td>\n",
              "      <td>291.000000</td>\n",
              "      <td>780.000000</td>\n",
              "      <td>273.00000</td>\n",
              "      <td>2.544000</td>\n",
              "      <td>121200.00000</td>\n",
              "    </tr>\n",
              "    <tr>\n",
              "      <th>50%</th>\n",
              "      <td>-118.485000</td>\n",
              "      <td>34.27000</td>\n",
              "      <td>29.000000</td>\n",
              "      <td>2106.000000</td>\n",
              "      <td>437.000000</td>\n",
              "      <td>1155.000000</td>\n",
              "      <td>409.50000</td>\n",
              "      <td>3.487150</td>\n",
              "      <td>177650.00000</td>\n",
              "    </tr>\n",
              "    <tr>\n",
              "      <th>75%</th>\n",
              "      <td>-118.020000</td>\n",
              "      <td>37.69000</td>\n",
              "      <td>37.000000</td>\n",
              "      <td>3129.000000</td>\n",
              "      <td>636.000000</td>\n",
              "      <td>1742.750000</td>\n",
              "      <td>597.25000</td>\n",
              "      <td>4.656475</td>\n",
              "      <td>263975.00000</td>\n",
              "    </tr>\n",
              "    <tr>\n",
              "      <th>max</th>\n",
              "      <td>-114.490000</td>\n",
              "      <td>41.92000</td>\n",
              "      <td>52.000000</td>\n",
              "      <td>30450.000000</td>\n",
              "      <td>5419.000000</td>\n",
              "      <td>11935.000000</td>\n",
              "      <td>4930.00000</td>\n",
              "      <td>15.000100</td>\n",
              "      <td>500001.00000</td>\n",
              "    </tr>\n",
              "  </tbody>\n",
              "</table>\n",
              "</div>"
            ],
            "text/plain": [
              "         longitude    latitude  ...  median_income  median_house_value\n",
              "count  3000.000000  3000.00000  ...    3000.000000          3000.00000\n",
              "mean   -119.589200    35.63539  ...       3.807272        205846.27500\n",
              "std       1.994936     2.12967  ...       1.854512        113119.68747\n",
              "min    -124.180000    32.56000  ...       0.499900         22500.00000\n",
              "25%    -121.810000    33.93000  ...       2.544000        121200.00000\n",
              "50%    -118.485000    34.27000  ...       3.487150        177650.00000\n",
              "75%    -118.020000    37.69000  ...       4.656475        263975.00000\n",
              "max    -114.490000    41.92000  ...      15.000100        500001.00000\n",
              "\n",
              "[8 rows x 9 columns]"
            ]
          },
          "metadata": {
            "tags": []
          },
          "execution_count": 14
        }
      ]
    },
    {
      "cell_type": "markdown",
      "metadata": {
        "id": "hrYdmLGiErrb"
      },
      "source": [
        "#### Interpration of stastics:\n",
        "\n",
        "Step by step: \n",
        "\n",
        "1. count = n = Total number of datapoints(repeated also count seperatly)\n",
        "\n",
        "2. Mean=$\\overline{x}$=$\\frac{\\sum_{i=1}^{n}(x_i)}{n}$ = mean of the data points\n",
        "\n",
        "3. std(standard deviation)==$\\sqrt{\\frac{\\sum_{i=1}^{n}(x_i-\\overline{x})^2}{n-1}}$  = we can clearly see the standard deviation is around 1 is better or standard deviation\n",
        "\n",
        "4. min =$x_{min}$\n",
        "\n",
        "5. 25%=25,the upper quarter of the data.\n",
        "\n",
        "6. 50%=median(middle)= middle value\n",
        "\n",
        "7. 75%=75,the lower quarter of the data.\n",
        "\n",
        "8. max =$x_{max}$\n",
        "\n",
        "\n",
        "Conclusion:\n",
        "\n",
        "1. if mean>median =right skewed\n",
        "2. if mean< median =left skewed\n"
      ]
    },
    {
      "cell_type": "markdown",
      "metadata": {
        "id": "3whqapKvyTS4"
      },
      "source": [
        "### Operation in features(U)\n",
        "\n",
        "`data.featurename.operation or function()`"
      ]
    },
    {
      "cell_type": "markdown",
      "metadata": {
        "id": "hIXV0abfysLa"
      },
      "source": [
        "### Slicing data(U or R)\n",
        "\n",
        "`data.loc[row,column]`\n",
        "\n"
      ]
    },
    {
      "cell_type": "code",
      "metadata": {
        "id": "WX7YOAUox9_7"
      },
      "source": [
        "data.iloc[:,:]"
      ],
      "execution_count": null,
      "outputs": []
    },
    {
      "cell_type": "code",
      "metadata": {
        "id": "R6KBYGd3zBkq"
      },
      "source": [
        "data.iloc[1:2] # row=0-2 exclude 2 , column=all defult"
      ],
      "execution_count": null,
      "outputs": []
    },
    {
      "cell_type": "code",
      "metadata": {
        "id": "nIPXwCnjzUsX"
      },
      "source": [
        "data.iloc[:,1:2] # row= defult all , column=0-2 exclude 2"
      ],
      "execution_count": null,
      "outputs": []
    },
    {
      "cell_type": "code",
      "metadata": {
        "id": "igmpWkXxznfy",
        "colab": {
          "base_uri": "https://localhost:8080/",
          "height": 221
        },
        "outputId": "73a4184c-d435-402f-ab1b-dbced8f6634a"
      },
      "source": [
        "data['households'] # "
      ],
      "execution_count": null,
      "outputs": [
        {
          "output_type": "execute_result",
          "data": {
            "text/plain": [
              "0        606.0\n",
              "1        277.0\n",
              "2        495.0\n",
              "3         11.0\n",
              "4        237.0\n",
              "         ...  \n",
              "2995     607.0\n",
              "2996    1036.0\n",
              "2997     220.0\n",
              "2998      14.0\n",
              "2999     260.0\n",
              "Name: households, Length: 3000, dtype: float64"
            ]
          },
          "metadata": {
            "tags": []
          },
          "execution_count": 3
        }
      ]
    },
    {
      "cell_type": "code",
      "metadata": {
        "id": "WYJ8UxcaETOA"
      },
      "source": [],
      "execution_count": null,
      "outputs": []
    }
  ]
}